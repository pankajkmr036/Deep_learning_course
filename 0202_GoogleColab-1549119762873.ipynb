{
 "cells": [
  {
   "cell_type": "markdown",
   "metadata": {
    "id": "U3yct2s2Pme9",
    "colab_type": "text"
   },
   "source": [
    "# Section 1\n",
    "Simple Linux commands\n"
   ]
  },
  {
   "cell_type": "code",
   "execution_count": 5,
   "metadata": {
    "id": "pzDl5mOYPhdj",
    "colab_type": "code",
    "colab": {
     "base_uri": "https://localhost:8080/",
     "height": 36.0
    },
    "outputId": "28a409ed-b9fb-485c-e2cb-7ef9c53232f3",
    "executionInfo": {
     "status": "ok",
     "timestamp": 1.548591493852E12,
     "user_tz": -330.0,
     "elapsed": 3177.0,
     "user": {
      "displayName": "One Fourth Labs Student",
      "photoUrl": "",
      "userId": "07586129509304884691"
     }
    }
   },
   "outputs": [
    {
     "name": "stdout",
     "output_type": "stream",
     "text": [
      "sample_data\n"
     ]
    }
   ],
   "source": [
    "!ls"
   ]
  },
  {
   "cell_type": "code",
   "execution_count": 0,
   "metadata": {
    "id": "Syk1BebHPuYe",
    "colab_type": "code",
    "colab": {}
   },
   "outputs": [],
   "source": [
    ""
   ]
  },
  {
   "cell_type": "code",
   "execution_count": 4,
   "metadata": {
    "id": "PtSBz7pDOAwI",
    "colab_type": "code",
    "colab": {
     "base_uri": "https://localhost:8080/",
     "height": 36.0
    },
    "outputId": "278784d1-2f70-4e75-880a-1a2d69147d0a",
    "executionInfo": {
     "status": "ok",
     "timestamp": 1.548591264172E12,
     "user_tz": -330.0,
     "elapsed": 2973.0,
     "user": {
      "displayName": "One Fourth Labs Student",
      "photoUrl": "",
      "userId": "07586129509304884691"
     }
    }
   },
   "outputs": [
    {
     "name": "stdout",
     "output_type": "stream",
     "text": [
      "sample_data\n"
     ]
    }
   ],
   "source": [
    "!ls"
   ]
  },
  {
   "cell_type": "code",
   "execution_count": 0,
   "metadata": {
    "id": "uMGSTI6COZ11",
    "colab_type": "code",
    "colab": {}
   },
   "outputs": [],
   "source": [
    "!cat /proc/cpuinfo"
   ]
  },
  {
   "cell_type": "code",
   "execution_count": 0,
   "metadata": {
    "id": "zUszNle1OpUX",
    "colab_type": "code",
    "colab": {}
   },
   "outputs": [],
   "source": [
    "!cat /proc/meminfo"
   ]
  },
  {
   "cell_type": "markdown",
   "metadata": {
    "id": "VeFHYl-ePWJh",
    "colab_type": "text"
   },
   "source": [
    "This is a text cell, where I can write in **bold** \n",
    "I can also write in $\\LaTeX$ "
   ]
  },
  {
   "cell_type": "markdown",
   "metadata": {
    "id": "FrlMN3ePP1z1",
    "colab_type": "text"
   },
   "source": [
    "# Section 2\n",
    "Moving on to Python"
   ]
  }
 ],
 "metadata": {
  "colab": {
   "name": "0202_GoogleColab.ipynb",
   "version": "0.3.2",
   "provenance": [],
   "toc_visible": true
  },
  "kernelspec": {
   "name": "python3",
   "display_name": "Python 3"
  }
 },
 "nbformat": 4,
 "nbformat_minor": 0
}
